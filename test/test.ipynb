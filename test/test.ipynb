{
 "cells": [
  {
   "cell_type": "code",
   "execution_count": 1,
   "metadata": {},
   "outputs": [],
   "source": [
    "import tkinter as tk\n",
    "from tkinter import ttk\n",
    "from tkinter import filedialog, messagebox, simpledialog\n",
    "import pandas as pd\n",
    "from webdav4.client import Client\n",
    "import os\n",
    "from getmac import get_mac_address\n",
    "import pandas as pd\n",
    "from datetime import datetime\n",
    "import openpyxly\n"
   ]
  },
  {
   "cell_type": "code",
   "execution_count": 6,
   "metadata": {},
   "outputs": [
    {
     "name": "stdout",
     "output_type": "stream",
     "text": [
      "{'QC': {'full_form': 'Quantum Computer', 'explanation': '量子计算机'}}\n"
     ]
    }
   ],
   "source": [
    "try:\n",
    "    df = pd.read_excel('glossary.xlsx', engine='openpyxl')\n",
    "    glossary = {}\n",
    "    for index, row in df.iterrows():\n",
    "        term = str(row['terms']).upper()\n",
    "        full = str(row['full_form'])\n",
    "        expl = str(row['explanation'])\n",
    "        if term:\n",
    "            glossary[term] = {\"full_form\": full, \"explanation\": expl}\n",
    "except FileNotFoundError:\n",
    "    # 创建一个空的DataFrame\n",
    "    df = pd.DataFrame(columns=['terms', 'full_form', 'explanation'])\n",
    "    # 将DataFrame保存为Excel文件\n",
    "    df.to_excel('glossary.xlsx', index=False)\n",
    "    # 创建一个空的词典\n",
    "    glossary = {}\n",
    "\n",
    "print (glossary)"
   ]
  },
  {
   "cell_type": "code",
   "execution_count": null,
   "metadata": {},
   "outputs": [],
   "source": [
    "def search_term(event=None):\n",
    "    search_query = entry_search.get().lower()\n",
    "    matching_terms = []\n",
    "\n",
    "    # 清空文本框\n",
    "    text_full_form.delete(1.0, tk.END)\n",
    "    text_explanation.delete(1.0, tk.END)\n",
    "\n",
    "    # 在术语表中进行模糊搜索\n",
    "    for term, data in glossary.items():\n",
    "        full_form_term = data[\"full_form\"].lower()\n",
    "        explanation_term = data[\"explanation\"].lower()\n",
    "        \n",
    "        if search_query in term.lower() or search_query in full_form_term or search_query in explanation_term:\n",
    "            matching_terms.append(term)\n",
    "    \n",
    "    if matching_terms:\n",
    "        result = glossary[matching_terms[0]]\n",
    "        # 插入新内容\n",
    "        text_full_form.insert(tk.END, result[\"full_form\"])\n",
    "        text_explanation.insert(tk.END, result[\"explanation\"])\n",
    "\n",
    "        # 更新左侧列表的选中项，并确保它在可视范围内\n",
    "        index = glossary_list.get(0, tk.END).index(matching_terms[0])  #获取匹配术语在术语列表中的索引\n",
    "        glossary_list.selection_clear(0, tk.END)\n",
    "        glossary_list.selection_set(index)\n",
    "        glossary_list.see(index)\n",
    "    else:\n",
    "        messagebox.showerror(\"Error\", \"Term not found\")"
   ]
  },
  {
   "cell_type": "code",
   "execution_count": 4,
   "metadata": {},
   "outputs": [
    {
     "ename": "TclError",
     "evalue": "no display name and no $DISPLAY environment variable",
     "output_type": "error",
     "traceback": [
      "\u001b[0;31m---------------------------------------------------------------------------\u001b[0m",
      "\u001b[0;31mTclError\u001b[0m                                  Traceback (most recent call last)",
      "\u001b[1;32m/mnt/c/Users/imybfu/Documents/Onedrive/code/project/glossary/test/test.ipynb Cell 4\u001b[0m line \u001b[0;36m4\n\u001b[1;32m      <a href='vscode-notebook-cell://wsl%2Bubuntu/mnt/c/Users/imybfu/Documents/Onedrive/code/project/glossary/test/test.ipynb#X15sdnNjb2RlLXJlbW90ZQ%3D%3D?line=1'>2</a>\u001b[0m \u001b[39mdef\u001b[39;00m \u001b[39mupdate_title\u001b[39m():\n\u001b[1;32m      <a href='vscode-notebook-cell://wsl%2Bubuntu/mnt/c/Users/imybfu/Documents/Onedrive/code/project/glossary/test/test.ipynb#X15sdnNjb2RlLXJlbW90ZQ%3D%3D?line=2'>3</a>\u001b[0m    root\u001b[39m.\u001b[39mtitle(\u001b[39mf\u001b[39m\u001b[39m\"\u001b[39m\u001b[39mGlossary (\u001b[39m\u001b[39m{\u001b[39;00mcurrent_version\u001b[39m}\u001b[39;00m\u001b[39m) - \u001b[39m\u001b[39m{\u001b[39;00m\u001b[39mlen\u001b[39m(glossary)\u001b[39m}\u001b[39;00m\u001b[39m terms\u001b[39m\u001b[39m\"\u001b[39m)\n\u001b[0;32m----> <a href='vscode-notebook-cell://wsl%2Bubuntu/mnt/c/Users/imybfu/Documents/Onedrive/code/project/glossary/test/test.ipynb#X15sdnNjb2RlLXJlbW90ZQ%3D%3D?line=3'>4</a>\u001b[0m root \u001b[39m=\u001b[39m tk\u001b[39m.\u001b[39mTk()\n\u001b[1;32m      <a href='vscode-notebook-cell://wsl%2Bubuntu/mnt/c/Users/imybfu/Documents/Onedrive/code/project/glossary/test/test.ipynb#X15sdnNjb2RlLXJlbW90ZQ%3D%3D?line=4'>5</a>\u001b[0m root\u001b[39m.\u001b[39mtitle(\u001b[39m\"\u001b[39m\u001b[39mGlossary\u001b[39m\u001b[39m\"\u001b[39m)\n",
      "File \u001b[0;32m~/anaconda3/envs/qcl/lib/python3.11/tkinter/__init__.py:2326\u001b[0m, in \u001b[0;36mTk.__init__\u001b[0;34m(self, screenName, baseName, className, useTk, sync, use)\u001b[0m\n\u001b[1;32m   2324\u001b[0m         baseName \u001b[39m=\u001b[39m baseName \u001b[39m+\u001b[39m ext\n\u001b[1;32m   2325\u001b[0m interactive \u001b[39m=\u001b[39m \u001b[39mFalse\u001b[39;00m\n\u001b[0;32m-> 2326\u001b[0m \u001b[39mself\u001b[39m\u001b[39m.\u001b[39mtk \u001b[39m=\u001b[39m _tkinter\u001b[39m.\u001b[39mcreate(screenName, baseName, className, interactive, wantobjects, useTk, sync, use)\n\u001b[1;32m   2327\u001b[0m \u001b[39mif\u001b[39;00m useTk:\n\u001b[1;32m   2328\u001b[0m     \u001b[39mself\u001b[39m\u001b[39m.\u001b[39m_loadtk()\n",
      "\u001b[0;31mTclError\u001b[0m: no display name and no $DISPLAY environment variable"
     ]
    }
   ],
   "source": [
    " # 更新标题栏中的术语数目\n",
    "def update_title():\n",
    "    root.title(f\"Glossary ({current_version}) - {len(glossary)} terms\")\n"
   ]
  },
  {
   "cell_type": "code",
   "execution_count": null,
   "metadata": {},
   "outputs": [],
   "source": [
    "# 更新术语列表\n",
    "def update_glossary_list():\n",
    "    glossary_list.delete(0, tk.END)  # 清空术语列表\n",
    "    \n",
    "    for term in sorted(glossary.keys()):  # 按字母顺序排序\n",
    "        glossary_list.insert(tk.END, term)\n",
    "\n",
    "    glossary_count.set(len(glossary))"
   ]
  },
  {
   "cell_type": "code",
   "execution_count": 39,
   "metadata": {},
   "outputs": [
    {
     "name": "stdout",
     "output_type": "stream",
     "text": [
      "Success Term added successfully\n",
      "{'QC': {'full_form': 'Quantum Computer', 'explanation': '量子计算机'}, 't': {'full_form': 'test', 'explanation': 'tt'}}\n"
     ]
    }
   ],
   "source": [
    "# 添加术语\n",
    "def add_term(event=None):  # 修改函数签名以接受事件参数，参数设置为None以确保不会影响直接调用\n",
    "    term = \"t\"\n",
    "    full = \"test\"\n",
    "    expl = \"tt\"\n",
    "    if term:\n",
    "        glossary[term] = {\"full_form\": full, \"explanation\": expl}\n",
    "        # 更新Excel文件\n",
    "        # df = pd.DataFrame(list(glossary.items()), columns=['full_form', 'explanation'])################## 1st error\n",
    "\n",
    "        # 将字典转换为 DataFrame，并设置合适的列名\n",
    "        df = pd.DataFrame.from_dict(glossary, orient='index')\n",
    "        df.index.name = 'terms'\n",
    "        df.reset_index(inplace=True)\n",
    "        # 将 DataFrame 写入 Excel 文件\n",
    "        df.to_excel('glossary.xlsx', index=False)\n",
    "        print (\"Success\", \"Term added successfully\")\n",
    "        # update_glossary_list()  # 更新术语列表\n",
    "        # update_title()  # 更新标题栏中的术语数目\n",
    "    else:\n",
    "        print (\"Error\", \"Please fill in the term field\")\n",
    "\n",
    "add_term()\n",
    "print (glossary)"
   ]
  },
  {
   "cell_type": "code",
   "execution_count": 28,
   "metadata": {},
   "outputs": [
    {
     "name": "stdout",
     "output_type": "stream",
     "text": [
      "Error Term not found\n",
      "{'QC': {'full_form': 'Quantum Computer', 'explanation': '量子计算机'}}\n"
     ]
    }
   ],
   "source": [
    "# 删除术语\n",
    "def delete_term():\n",
    "    # selection = glossary_list.curselection()  # 获取当前选中的索引\n",
    "    # if selection:\n",
    "        # term = glossary_list.get(selection[0])  # 获取当前选中的术语\n",
    "        term = \"t\"\n",
    "        if term in glossary:\n",
    "            del glossary[term]\n",
    "            # 更新Excel文件\n",
    "            df = pd.DataFrame(list(glossary.items()), columns=['full_form', 'explanation'])\n",
    "            df.to_excel('glossary.xlsx', index=False)\n",
    "            print (\"Success\", \"Term deleted successfully\")\n",
    "            # update_glossary_list()  # 更新术语列表\n",
    "            # update_title()  # 更新标题栏中的术语数目\n",
    "        else:\n",
    "            print (\"Error\", \"Term not found\")\n",
    "\n",
    "delete_term()\n",
    "print (glossary)"
   ]
  },
  {
   "cell_type": "code",
   "execution_count": 38,
   "metadata": {},
   "outputs": [
    {
     "name": "stdout",
     "output_type": "stream",
     "text": [
      "Success Term updated successfully\n",
      "{'QC': {'full_form': 'Quantum Computer', 'explanation': '量子计算机'}, 't': {'full_form': 'test', 'explanation': 'tt'}}\n"
     ]
    }
   ],
   "source": [
    "# 更新术语\n",
    "def update_term():\n",
    "    # selection = glossary_list.curselection()  # 获取当前选中的索引\n",
    "    # if selection:\n",
    "    #     term = glossary_list.get(selection[0])  # 获取当前选中的术语\n",
    "        term = \"t\"\n",
    "        if term in glossary:\n",
    "            # full = simpledialog.askstring(\"Update Term\", \"Enter the full form:\", initialvalue=glossary[term]['full_form'])\n",
    "            full = \"test\"\n",
    "            expl = \"tt\"\n",
    "            # Check if user pressed Cancel\n",
    "            if full is None:\n",
    "                return\n",
    "\n",
    "            # expl = simpledialog.askstring(\"Update Term\", \"Enter the explanation:\", initialvalue=glossary[term]['explanation'])\n",
    "            \n",
    "            # Check if user pressed Cancel\n",
    "            if expl is None:\n",
    "                return\n",
    "\n",
    "            if full and expl:\n",
    "                glossary[term] = {\"full_form\": full, \"explanation\": expl}\n",
    "                # 更新Excel文件\n",
    "                df = pd.DataFrame(list(glossary.items()), columns=['full_form', 'explanation'])\n",
    "                df.to_excel('glossary.xlsx', index=False)\n",
    "                print (\"Success\", \"Term updated successfully\")\n",
    "                # update_glossary_list()  # 更新术语列表\n",
    "            else:\n",
    "                print (\"Error\", \"Please fill in all fields\")\n",
    "        else:\n",
    "            print (\"Error\", \"Term not found\")\n",
    "\n",
    "update_term()\n",
    "print (glossary)"
   ]
  },
  {
   "cell_type": "code",
   "execution_count": null,
   "metadata": {},
   "outputs": [],
   "source": [
    "# 显示术语\n",
    "def show_term(event):\n",
    "    selection = glossary_list.curselection()\n",
    "    if selection:\n",
    "        term = glossary_list.get(selection[0])\n",
    "        result = glossary[term]\n",
    "        \n",
    "        # 清空文本框\n",
    "        text_full_form.delete(1.0, tk.END)\n",
    "        text_explanation.delete(1.0, tk.END)\n",
    "\n",
    "        # 插入新内容\n",
    "        text_full_form.insert(tk.END, result[\"full_form\"])\n",
    "        text_explanation.insert(tk.END, result[\"explanation\"])"
   ]
  },
  {
   "cell_type": "code",
   "execution_count": null,
   "metadata": {},
   "outputs": [],
   "source": [
    "# 显示右键菜单        \n",
    "def show_context_menu(event):\n",
    "    global context_menu  # 将context_menu声明为全局变量\n",
    "    selection = glossary_list.curselection()\n",
    "    if selection:\n",
    "        context_menu = tk.Menu(glossary_list, tearoff=0)\n",
    "        context_menu.add_command(label=\"Update\", command=update_term)\n",
    "        context_menu.add_command(label=\"Delete\", command=delete_term)\n",
    "        context_menu.post(event.x_root, event.y_root)"
   ]
  },
  {
   "cell_type": "code",
   "execution_count": null,
   "metadata": {},
   "outputs": [],
   "source": [
    "# 上传文件到坚果云\n",
    "def upload_to_jianguoyun():\n",
    "    # 检查本地是否存在glossary文件\n",
    "    if not os.path.exists('glossary.xlsx'):\n",
    "        print(\"Error: Glossary file does not exist\")\n",
    "        return\n",
    "\n",
    "    # 如果存在，继续执行上传操作\n",
    "    mac_address = get_mac_address()  # 获取设备的 MAC 地址\n",
    "    cloud_filename = f'{mac_address.replace(\":\", \"\")}.xlsx'\n",
    "\n",
    "    # 坚果云账号和密码\n",
    "    username = \"imybfu@outlook.com\"\n",
    "    password = \"axzyqd3a6brx99ei\"\n",
    "\n",
    "    client = Client(base_url='https://dav.jianguoyun.com/dav/', auth=(username, password))\n",
    "\n",
    "    # 上传文件到指定路径\n",
    "    cloud_path = f'/nutshare/glossary/{cloud_filename}'  # 替换为您的实际目标路径\n",
    "    try:\n",
    "        client.upload_file(from_path='glossary.xlsx', to_path=cloud_path, overwrite=True)\n",
    "        print(\"Success: File uploaded successfully\")\n",
    "    except Exception as e:\n",
    "        print(f\"Error: Failed to upload file: {str(e)}\")"
   ]
  },
  {
   "cell_type": "code",
   "execution_count": null,
   "metadata": {},
   "outputs": [],
   "source": [
    "# 从坚果云下载文件\n",
    "def download_from_jianguoyun():\n",
    "    # 生成当前时间的标记，用于重命名本地文件\n",
    "    current_time = datetime.now().strftime(\"%Y%m%d%H%M%S\")\n",
    "    \n",
    "    # 备份本地文件\n",
    "    backup_filename = f\"glossary_{current_time}.xlsx\"\n",
    "    try:\n",
    "        # 如果本地有glossary文件，将之改名为备份文件\n",
    "        if os.path.exists(\"glossary.xlsx\"):\n",
    "            os.rename(\"glossary.xlsx\", backup_filename)\n",
    "    except Exception as e:\n",
    "        print(f\"Error: Failed to backup local file: {str(e)}\")\n",
    "        return\n",
    "\n",
    "    mac_address = get_mac_address()  # 获取设备的 MAC 地址\n",
    "    cloud_filename = f'{mac_address.replace(\":\", \"\")}.xlsx'\n",
    "\n",
    "    # 坚果云账号和密码\n",
    "    username = \"imybfu@outlook.com\"\n",
    "    password = \"axzyqd3a6brx99ei\"\n",
    "\n",
    "    client = Client(base_url='https://dav.jianguoyun.com/dav/', auth=(username, password))\n",
    "\n",
    "    # 下载远程文件到本地\n",
    "    cloud_path = f'/nutshare/glossary/{cloud_filename}' # 替换为您的实际文件路径\n",
    "    try:\n",
    "        client.download_file(from_path=cloud_path, to_path=\"glossary.xlsx\")\n",
    "        # 如果下载成功，则更新术语列表和标题栏，并显示成功消息\n",
    "        try:\n",
    "            df = pd.read_excel('glossary.xlsx', engine='openpyxl')  # 重新读取下载后的 glossary.xlsx 文件\n",
    "            glossary.clear()  # 清空当前的 glossary 字典\n",
    "            for index, row in df.iterrows():\n",
    "                term = str(row['terms']).upper()\n",
    "                full = str(row['full_form'])\n",
    "                expl = str(row['explanation'])\n",
    "                if term:\n",
    "                    glossary[term] = {\"full_form\": full, \"explanation\": expl}  # 更新 glossary 字典\n",
    "        except FileNotFoundError:\n",
    "            print(\"Error: Failed to load downloaded glossary file\")\n",
    "            return\n",
    "\n",
    "        update_glossary_list()\n",
    "        update_title()\n",
    "        print(\"Success: File downloaded successfully\")\n",
    "\n",
    "    except Exception as e:\n",
    "        print(f\"Error: Failed to download file: {str(e)}\")\n",
    "        # 下载失败，将备份文件名改回glossary\n",
    "        if os.path.exists(backup_filename):\n",
    "            os.rename(backup_filename, \"glossary.xlsx\")\n",
    "        return\n",
    "\n",
    "    # 检查下载的文件是否为空\n",
    "    if os.path.getsize(\"glossary.xlsx\") == 0:\n",
    "        print(\"Error: Downloaded file is empty\")\n",
    "        # 下载失败，将备份文件名改回glossary\n",
    "        if os.path.exists(backup_filename):\n",
    "            os.rename(backup_filename, \"glossary.xlsx\")\n",
    "        return\n"
   ]
  },
  {
   "cell_type": "code",
   "execution_count": 50,
   "metadata": {},
   "outputs": [
    {
     "name": "stdout",
     "output_type": "stream",
     "text": [
      "Error Local file not found\n",
      "Success File downloaded successfully\n"
     ]
    }
   ],
   "source": [
    "import tkinter as tk\n",
    "from tkinter import ttk\n",
    "from tkinter import filedialog, messagebox, simpledialog\n",
    "import pandas as pd\n",
    "from webdav4.client import Client\n",
    "import os\n",
    "from getmac import get_mac_address\n",
    "import pandas as pd\n",
    "from datetime import datetime\n",
    "import openpyxl\n",
    "import webbrowser\n",
    "\n",
    "username = \"imybfu@outlook.com\"\n",
    "password = \"axzyqd3a6brx99ei\"\n",
    "\n",
    "def download_from_jianguoyun():\n",
    "    mac_address = get_mac_address()  # 获取设备的 MAC 地址\n",
    "    cloud_filename = f'{mac_address.replace(\":\", \"\")}.xlsx'\n",
    "    client = Client(base_url='https://dav.jianguoyun.com/dav/', auth=(username, password))\n",
    "    # 检查云端文件是否存在\n",
    "    cloud_path = f'/nutshare/glossary/{cloud_filename}' # 替换为您的实际文件路径\n",
    "    try:\n",
    "        file_info = client.exists(cloud_path)\n",
    "    except HTTPError as e:\n",
    "        if e.response.status_code == 404:\n",
    "            print (\"Error\", \"File not found on cloud\")\n",
    "            return\n",
    "        else:\n",
    "            print (\"Error\", f\"Failed to check file existence: {str(e)}\")\n",
    "            return\n",
    "    # 生成当前时间的标记，用于重命名本地文件\n",
    "    current_time = datetime.now().strftime(\"%Y%m%d%H%M%S\")\n",
    "    # 备份本地文件\n",
    "    backup_filename = f\"glossary_{current_time}.xlsx\"\n",
    "    try:\n",
    "        # 如果本地有glossary文件，将之改名为备份文件\n",
    "        if os.path.exists(\"glossary.xlsx\"):\n",
    "            os.rename(\"glossary.xlsx\", backup_filename)\n",
    "        else:\n",
    "            print (\"Error\", \"Local file not found\")\n",
    "    except Exception as e:\n",
    "        print (\"Error\", f\"Failed to backup local file: {str(e)}\")\n",
    "        return\n",
    "    # 如果文件存在，则下载远程文件到本地\n",
    "    try:\n",
    "        client.download_file(from_path=cloud_path, to_path=\"glossary.xlsx\")\n",
    "        try:\n",
    "            df = pd.read_excel('glossary.xlsx', engine='openpyxl')  # 重新读取下载后的 glossary.xlsx 文件\n",
    "            glossary.clear()  # 清空当前的 glossary 字典\n",
    "            for index, row in df.iterrows():\n",
    "                term = str(row['terms']).upper()\n",
    "                full = str(row['full_form'])\n",
    "                expl = str(row['explanation'])\n",
    "                if term:\n",
    "                    glossary[term] = {\"full_form\": full, \"explanation\": expl}  # 更新 glossary 字典\n",
    "        except FileNotFoundError:\n",
    "            print (\"Error\", \"Failed to load downloaded glossary file\")\n",
    "            remove(\"glossary.xlsx\") # 加载失败时可能产生一个错误的xlsx文件，这时将其删除\n",
    "            return\n",
    "        # 如果下载成功，则更新术语列表和标题栏，并显示成功消息\n",
    "        # update_glossary_list()\n",
    "        # update_title()\n",
    "        print (\"Success\", \"File downloaded successfully\")\n",
    "    except Exception as e:\n",
    "        print (\"Error\", f\"Failed to download file: {str(e)}\")\n",
    "        # 下载失败，将备份文件名改回glossary\n",
    "        if os.path.exists(backup_filename):\n",
    "            os.rename(backup_filename, \"glossary.xlsx\")\n",
    "        return\n",
    "download_from_jianguoyun()"
   ]
  }
 ],
 "metadata": {
  "kernelspec": {
   "display_name": "qcl",
   "language": "python",
   "name": "python3"
  },
  "language_info": {
   "codemirror_mode": {
    "name": "ipython",
    "version": 3
   },
   "file_extension": ".py",
   "mimetype": "text/x-python",
   "name": "python",
   "nbconvert_exporter": "python",
   "pygments_lexer": "ipython3",
   "version": "3.11.5"
  }
 },
 "nbformat": 4,
 "nbformat_minor": 2
}
